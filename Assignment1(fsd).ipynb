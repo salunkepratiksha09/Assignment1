{
 "cells": [
  {
   "cell_type": "markdown",
   "id": "048afcda",
   "metadata": {},
   "source": [
    "### 1. In the below elements which of them are values or an expression? \n",
    "  'hello', -87.8 ,- , / , +\t, 6, *\n"
   ]
  },
  {
   "cell_type": "markdown",
   "id": "658c5ed8",
   "metadata": {},
   "source": [
    "values are \"hello\",-87.8,6 and Expressions are -,/,+,*"
   ]
  },
  {
   "cell_type": "markdown",
   "id": "a7f43471",
   "metadata": {},
   "source": [
    "### 2. What is the difference between string and variable?"
   ]
  },
  {
   "cell_type": "markdown",
   "id": "db852bec",
   "metadata": {},
   "source": [
    " The main difference between a string and a variable is that a string is a specific type of data representing a sequence of characters,while a variable is a placeholder that can hold different types of data,including strings.A variable can be assigned a string value,and it can also be assigned other types of data such as numbers,booleans,or objects."
   ]
  },
  {
   "cell_type": "markdown",
   "id": "bb6b845b",
   "metadata": {},
   "source": [
    "### 3. Describe three different data types."
   ]
  },
  {
   "cell_type": "markdown",
   "id": "98ad660e",
   "metadata": {},
   "source": [
    "#### List,tuple and dictionary \n",
    "1.List:A list allows to store multiple values such as numbers,strings,or even other lists,list is mutable i.e we can add,remove,replace element and modify the values.\n",
    "\n",
    "2.Tuple:A tuple allows to store multiple values such as numbers,strings,or even other tuple.Since tuples are immutable,you cannot modify the values once they are assigned.However,you can access individual elements using indexing,just like in lists.\n",
    "\n",
    "3.Dictionary:dictionaries are represented by curly braces \"{}\" and consist of key-value pair is separated by commas.\n",
    "    "
   ]
  },
  {
   "cell_type": "markdown",
   "id": "c4bdc76a",
   "metadata": {},
   "source": [
    "### 4. What is an expression made up of? What do all expressions do?"
   ]
  },
  {
   "cell_type": "markdown",
   "id": "a1a4e37d",
   "metadata": {},
   "source": [
    "An expression is a combination of values, variables, operators, and function calls that can be evaluated to produce a value"
   ]
  },
  {
   "cell_type": "markdown",
   "id": "be90e2a8",
   "metadata": {},
   "source": [
    "### 5. This assignment statements, like spam = 10. What is the difference between an expression and a statement?"
   ]
  },
  {
   "cell_type": "markdown",
   "id": "36d11e61",
   "metadata": {},
   "source": [
    "expressions are used to compute values, while statements are used to perform actions or control the flow of execution in a program. Statements often involve expressions as part of their execution, but they are fundamentally different in terms of their purpose and behavior.\n",
    "\n",
    "In the assignment statement spam = 10, the left-hand side (spam) is a variable, and the right-hand side (10) is an expression that evaluates to the value 10. The statement assigns the value of the expression to the variable."
   ]
  },
  {
   "cell_type": "markdown",
   "id": "b36cec1e",
   "metadata": {},
   "source": [
    "### 6. After running the following code, what does the variable bacon contain?\n",
    "bacon = 22\n",
    "\n",
    "bacon + 1\n"
   ]
  },
  {
   "cell_type": "code",
   "execution_count": 24,
   "id": "945bc451",
   "metadata": {},
   "outputs": [
    {
     "data": {
      "text/plain": [
       "23"
      ]
     },
     "execution_count": 24,
     "metadata": {},
     "output_type": "execute_result"
    }
   ],
   "source": [
    "bacon=22\n",
    "bacon+1"
   ]
  },
  {
   "cell_type": "markdown",
   "id": "55d26f9e",
   "metadata": {},
   "source": [
    "#### 7. What should the values of the following two terms be?\n",
    "'spam' + 'spamspam'\n",
    "\n",
    "'spam' * 3\n"
   ]
  },
  {
   "cell_type": "code",
   "execution_count": 25,
   "id": "55c8229a",
   "metadata": {},
   "outputs": [
    {
     "data": {
      "text/plain": [
       "'spamspamspam'"
      ]
     },
     "execution_count": 25,
     "metadata": {},
     "output_type": "execute_result"
    }
   ],
   "source": [
    "'spam'+'spamspam'"
   ]
  },
  {
   "cell_type": "code",
   "execution_count": 26,
   "id": "8a0439de",
   "metadata": {},
   "outputs": [
    {
     "data": {
      "text/plain": [
       "'spamspamspam'"
      ]
     },
     "execution_count": 26,
     "metadata": {},
     "output_type": "execute_result"
    }
   ],
   "source": [
    "'spam'*3"
   ]
  },
  {
   "cell_type": "markdown",
   "id": "606a750c",
   "metadata": {},
   "source": [
    "### 8. Why is eggs a valid variable name while 100 is invalid?"
   ]
  },
  {
   "cell_type": "code",
   "execution_count": 29,
   "id": "c60cb7a8",
   "metadata": {},
   "outputs": [],
   "source": [
    "eggs=\"hello\""
   ]
  },
  {
   "cell_type": "code",
   "execution_count": 36,
   "id": "100ab8b1",
   "metadata": {},
   "outputs": [
    {
     "ename": "SyntaxError",
     "evalue": "cannot assign to literal (Temp/ipykernel_15328/2721999100.py, line 1)",
     "output_type": "error",
     "traceback": [
      "\u001b[1;36m  File \u001b[1;32m\"C:\\Users\\phsal\\AppData\\Local\\Temp/ipykernel_15328/2721999100.py\"\u001b[1;36m, line \u001b[1;32m1\u001b[0m\n\u001b[1;33m    100=\"hello\"  ##variable name cannot begin with number\u001b[0m\n\u001b[1;37m    ^\u001b[0m\n\u001b[1;31mSyntaxError\u001b[0m\u001b[1;31m:\u001b[0m cannot assign to literal\n"
     ]
    }
   ],
   "source": [
    "100=\"hello\"  ##variable name cannot begin with number"
   ]
  },
  {
   "cell_type": "markdown",
   "id": "8f3bc08c",
   "metadata": {},
   "source": [
    "### 9. What three functions can be used to get the integer, floating-point number, or string version of a value?"
   ]
  },
  {
   "cell_type": "markdown",
   "id": "ab0f6e7e",
   "metadata": {},
   "source": [
    "\n",
    "int() function to convert a value to an integer.\n",
    "\n",
    "float() function to convert a value to a floating-point number.\n",
    "\n",
    "\n",
    "str() function to convert a value to a string."
   ]
  },
  {
   "cell_type": "markdown",
   "id": "9c9eb0c8",
   "metadata": {},
   "source": [
    "### 10. Why does this expression cause an error? How can you fix it?\n",
    "'I have eaten ' + 99 + ' burritos.'"
   ]
  },
  {
   "cell_type": "markdown",
   "id": "493aa1aa",
   "metadata": {},
   "source": [
    "can only concatenate string (not int) to str\n"
   ]
  },
  {
   "cell_type": "code",
   "execution_count": 34,
   "id": "4d64c9d5",
   "metadata": {},
   "outputs": [
    {
     "data": {
      "text/plain": [
       "'I have eaten99burritos'"
      ]
     },
     "execution_count": 34,
     "metadata": {},
     "output_type": "execute_result"
    }
   ],
   "source": [
    "'I have eaten'+'99'+'burritos'"
   ]
  },
  {
   "cell_type": "code",
   "execution_count": null,
   "id": "54ed34f5",
   "metadata": {},
   "outputs": [],
   "source": []
  }
 ],
 "metadata": {
  "kernelspec": {
   "display_name": "Python 3 (ipykernel)",
   "language": "python",
   "name": "python3"
  },
  "language_info": {
   "codemirror_mode": {
    "name": "ipython",
    "version": 3
   },
   "file_extension": ".py",
   "mimetype": "text/x-python",
   "name": "python",
   "nbconvert_exporter": "python",
   "pygments_lexer": "ipython3",
   "version": "3.9.7"
  }
 },
 "nbformat": 4,
 "nbformat_minor": 5
}
